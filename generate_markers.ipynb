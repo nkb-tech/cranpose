{
 "cells": [
  {
   "cell_type": "code",
   "execution_count": 1,
   "id": "322216be-2905-4fb2-917e-dbf220a9aa95",
   "metadata": {},
   "outputs": [],
   "source": [
    "import cv2\n",
    "import numpy as np\n",
    "from copy import deepcopy\n",
    "import matplotlib.pyplot as plt\n",
    "\n",
    "import scipy\n",
    "from scipy.spatial.transform import Rotation as R\n",
    "\n",
    "# from pose_estimation import pose_esitmation\n",
    "# from utils import ARUCO_DICT"
   ]
  },
  {
   "cell_type": "markdown",
   "id": "f78d05e0-979c-4f7d-840e-d21f63e5fd46",
   "metadata": {},
   "source": [
    "Этот блокнот генерирует маркеры и матрицы их систем координат в соответствии с их расположением\n",
    "(центра маркеров расположены в 0 по Y и 0 по Z базовой с.к. координата X центров маркеров кратна 8-ми,\n",
    "ось Х с.к. маркеров совпадает с осью Х с.к. базы, с.к. маркеров повернута относительно с.к. базы вокруг оси Х на -90 градусов)\n",
    "\n",
    "С.к. базы: ось Х направлена вправо, ось Y против направления взгляда, ось Z вниз."
   ]
  },
  {
   "cell_type": "code",
   "execution_count": 2,
   "id": "88796d4e-f6a3-41ca-9c99-4d86820994a9",
   "metadata": {},
   "outputs": [],
   "source": [
    "ARUCO_DICT = {\n",
    "\t\"DICT_4X4_50\": cv2.aruco.DICT_4X4_50,\n",
    "\t\"DICT_4X4_100\": cv2.aruco.DICT_4X4_100,\n",
    "\t\"DICT_4X4_250\": cv2.aruco.DICT_4X4_250,\n",
    "\t\"DICT_4X4_1000\": cv2.aruco.DICT_4X4_1000,\n",
    "\t\"DICT_5X5_50\": cv2.aruco.DICT_5X5_50,\n",
    "\t\"DICT_5X5_100\": cv2.aruco.DICT_5X5_100,\n",
    "\t\"DICT_5X5_250\": cv2.aruco.DICT_5X5_250,\n",
    "\t\"DICT_5X5_1000\": cv2.aruco.DICT_5X5_1000,\n",
    "\t\"DICT_6X6_50\": cv2.aruco.DICT_6X6_50,\n",
    "\t\"DICT_6X6_100\": cv2.aruco.DICT_6X6_100,\n",
    "\t\"DICT_6X6_250\": cv2.aruco.DICT_6X6_250,\n",
    "\t\"DICT_6X6_1000\": cv2.aruco.DICT_6X6_1000,\n",
    "\t\"DICT_7X7_50\": cv2.aruco.DICT_7X7_50,\n",
    "\t\"DICT_7X7_100\": cv2.aruco.DICT_7X7_100,\n",
    "\t\"DICT_7X7_250\": cv2.aruco.DICT_7X7_250,\n",
    "\t\"DICT_7X7_1000\": cv2.aruco.DICT_7X7_1000,\n",
    "\t\"DICT_ARUCO_ORIGINAL\": cv2.aruco.DICT_ARUCO_ORIGINAL,\n",
    "\t\"DICT_APRILTAG_16h5\": cv2.aruco.DICT_APRILTAG_16h5,\n",
    "\t\"DICT_APRILTAG_25h9\": cv2.aruco.DICT_APRILTAG_25h9,\n",
    "\t\"DICT_APRILTAG_36h10\": cv2.aruco.DICT_APRILTAG_36h10,\n",
    "\t\"DICT_APRILTAG_36h11\": cv2.aruco.DICT_APRILTAG_36h11\n",
    "}"
   ]
  },
  {
   "cell_type": "code",
   "execution_count": 26,
   "id": "8e85aeff-afc8-4076-a42c-342e1c98e879",
   "metadata": {},
   "outputs": [],
   "source": [
    "dict_type = 'DICT_7X7_100'\n",
    "marker_size = 1000\n",
    "n_markers = 20\n",
    "step = 1"
   ]
  },
  {
   "cell_type": "code",
   "execution_count": 25,
   "id": "c12a3741-7da8-44b2-8d08-7d062f9df75d",
   "metadata": {
    "scrolled": true
   },
   "outputs": [
    {
     "name": "stdout",
     "output_type": "stream",
     "text": [
      "Generating ArUCo tag of type 'DICT_7X7_100' with ID '0'\n",
      "Generating ArUCo tag of type 'DICT_7X7_100' with ID '1'\n",
      "Generating ArUCo tag of type 'DICT_7X7_100' with ID '2'\n",
      "Generating ArUCo tag of type 'DICT_7X7_100' with ID '3'\n",
      "Generating ArUCo tag of type 'DICT_7X7_100' with ID '4'\n",
      "Generating ArUCo tag of type 'DICT_7X7_100' with ID '5'\n",
      "Generating ArUCo tag of type 'DICT_7X7_100' with ID '6'\n",
      "Generating ArUCo tag of type 'DICT_7X7_100' with ID '7'\n",
      "Generating ArUCo tag of type 'DICT_7X7_100' with ID '8'\n",
      "Generating ArUCo tag of type 'DICT_7X7_100' with ID '9'\n",
      "Generating ArUCo tag of type 'DICT_7X7_100' with ID '10'\n",
      "Generating ArUCo tag of type 'DICT_7X7_100' with ID '11'\n",
      "Generating ArUCo tag of type 'DICT_7X7_100' with ID '12'\n",
      "Generating ArUCo tag of type 'DICT_7X7_100' with ID '13'\n",
      "Generating ArUCo tag of type 'DICT_7X7_100' with ID '14'\n",
      "Generating ArUCo tag of type 'DICT_7X7_100' with ID '15'\n",
      "Generating ArUCo tag of type 'DICT_7X7_100' with ID '16'\n",
      "Generating ArUCo tag of type 'DICT_7X7_100' with ID '17'\n",
      "Generating ArUCo tag of type 'DICT_7X7_100' with ID '18'\n",
      "Generating ArUCo tag of type 'DICT_7X7_100' with ID '19'\n"
     ]
    }
   ],
   "source": [
    "# Генерация и сохранение маркеров\n",
    "\n",
    "if ARUCO_DICT.get(dict_type, None) is None:\n",
    "\tprint(f\"ArUCo tag type '{dict_type}' is not supported\")\n",
    "\tsys.exit(0)\n",
    "\n",
    "arucoDict = cv2.aruco.Dictionary_get(ARUCO_DICT[dict_type])\n",
    "\n",
    "for id in range(n_markers):\n",
    "    print(\"Generating ArUCo tag of type '{}' with ID '{}'\".format(dict_type, id))\n",
    "    tag = np.zeros((marker_size, marker_size, 1), dtype=\"uint8\")\n",
    "    cv2.aruco.drawMarker(arucoDict, id, marker_size, tag, 1)\n",
    "    \n",
    "    # Save the tag generated\n",
    "    tag_name = f'tags/{dict_type}_id_{id}.png'\n",
    "    cv2.imwrite(tag_name, tag)"
   ]
  },
  {
   "cell_type": "code",
   "execution_count": 31,
   "id": "6a37cf74-28fb-4708-91c4-d87c7c4bfbbe",
   "metadata": {},
   "outputs": [],
   "source": [
    "# Вычисление систем координат маркеров в системе коррдинат базы\n",
    "\n",
    "X, Y, Z = (np.linspace(0, n_markers*step, n_markers, endpoint=False), np.zeros(n_markers), np.zeros(n_markers))\n",
    "\n",
    "def M_X(a):\n",
    "    c, s = np.cos(a), np.sin(a)\n",
    "    return np.array([[1,  0,  0],\n",
    "                     [0,  c, -s],\n",
    "                     [0,  s,  c]])\n",
    "\n",
    "def M_X(a):\n",
    "    c, s = np.cos(a), np.sin(a)\n",
    "    return np.array([[c, -s,  0],\n",
    "                     [s,  c,  0],\n",
    "                     [0,  0,  1]])\n",
    "\n",
    "def M_X(a):\n",
    "    c, s = np.cos(a), np.sin(a)\n",
    "    return np.array([[ c,  0,  s],\n",
    "                     [ 0,  1,  0],\n",
    "                     [-s,  0,  c]])\n",
    "\n",
    "a = - 90 * 3.1415/180 # угол поворота \n",
    "M = M_X(a) # только одно вращение вокруг оси X"
   ]
  },
  {
   "cell_type": "code",
   "execution_count": 33,
   "id": "410df3f4-7b40-4f60-bd32-4bcac9cda6af",
   "metadata": {},
   "outputs": [],
   "source": [
    "marker_poses = [np.vstack([np.column_stack([M, np.array([x, y, z])]), [0,0,0,1]]) for x, y, z in zip(X, Y, Z)]"
   ]
  },
  {
   "cell_type": "code",
   "execution_count": 36,
   "id": "521844ae-3fad-49eb-b319-afc1a305a9a1",
   "metadata": {},
   "outputs": [],
   "source": [
    "marker_poses_dict = dict(zip(range(n_markers), marker_poses))"
   ]
  },
  {
   "cell_type": "code",
   "execution_count": null,
   "id": "dc3ce26e-763c-40f7-85c7-2b19f87ee96c",
   "metadata": {},
   "outputs": [],
   "source": []
  }
 ],
 "metadata": {
  "kernelspec": {
   "display_name": "Python 3 (ipykernel)",
   "language": "python",
   "name": "python3"
  },
  "language_info": {
   "codemirror_mode": {
    "name": "ipython",
    "version": 3
   },
   "file_extension": ".py",
   "mimetype": "text/x-python",
   "name": "python",
   "nbconvert_exporter": "python",
   "pygments_lexer": "ipython3",
   "version": "3.10.13"
  }
 },
 "nbformat": 4,
 "nbformat_minor": 5
}
