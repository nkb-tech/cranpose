{
 "cells": [
  {
   "cell_type": "code",
   "execution_count": 1,
   "id": "322216be-2905-4fb2-917e-dbf220a9aa95",
   "metadata": {},
   "outputs": [],
   "source": [
    "import cv2\n",
    "import numpy as np\n",
    "import pickle as pk\n",
    "from copy import deepcopy\n",
    "import matplotlib.pyplot as plt\n",
    "\n",
    "import scipy\n",
    "from scipy.spatial.transform import Rotation as R\n",
    "\n",
    "from core.utils import ARUCO_DICT\n",
    "# from pose_estimation import pose_esitmation\n",
    "# from utils import ARUCO_DICT"
   ]
  },
  {
   "cell_type": "markdown",
   "id": "f78d05e0-979c-4f7d-840e-d21f63e5fd46",
   "metadata": {},
   "source": [
    "Этот блокнот генерирует маркеры и матрицы их систем координат в соответствии с их расположением\n",
    "(центра маркеров расположены в 0 по Y и 0 по Z базовой с.к. координата X центров маркеров кратна 8-ми,\n",
    "ось Х с.к. маркеров совпадает с осью Х с.к. базы, с.к. маркеров повернута относительно с.к. базы вокруг оси Х на -90 градусов)\n",
    "\n",
    "С.к. базы: ось Х направлена вправо, ось Y против направления взгляда, ось Z вниз."
   ]
  },
  {
   "cell_type": "code",
   "execution_count": 2,
   "id": "77882da3-06a6-4fe2-8710-556bad530965",
   "metadata": {},
   "outputs": [],
   "source": []
  },
  {
   "cell_type": "code",
   "execution_count": 63,
   "id": "8e85aeff-afc8-4076-a42c-342e1c98e879",
   "metadata": {},
   "outputs": [],
   "source": [
    "savedir = 'demo_tags'\n",
    "dict_type = 'DICT_7X7_100'\n",
    "marker_size = 1000\n",
    "n_markers = 3\n",
    "step = 2.095"
   ]
  },
  {
   "cell_type": "code",
   "execution_count": 64,
   "id": "c12a3741-7da8-44b2-8d08-7d062f9df75d",
   "metadata": {
    "scrolled": true
   },
   "outputs": [
    {
     "name": "stdout",
     "output_type": "stream",
     "text": [
      "Generating ArUCo tag of type 'DICT_7X7_100' with ID '0'\n",
      "Generating ArUCo tag of type 'DICT_7X7_100' with ID '1'\n",
      "Generating ArUCo tag of type 'DICT_7X7_100' with ID '2'\n"
     ]
    }
   ],
   "source": [
    "# Генерация и сохранение маркеров\n",
    "\n",
    "if ARUCO_DICT.get(dict_type, None) is None:\n",
    "\tprint(f\"ArUCo tag type '{dict_type}' is not supported\")\n",
    "\tsys.exit(0)\n",
    "\n",
    "arucoDict = cv2.aruco.Dictionary_get(ARUCO_DICT[dict_type])\n",
    "\n",
    "for id in range(n_markers):\n",
    "    print(\"Generating ArUCo tag of type '{}' with ID '{}'\".format(dict_type, id))\n",
    "    tag = np.zeros((marker_size, marker_size, 1), dtype=\"uint8\")\n",
    "    cv2.aruco.drawMarker(arucoDict, id, marker_size, tag, 1)\n",
    "    \n",
    "    # Save the tag generated\n",
    "    tag_name = f'{savedir}/{dict_type}_id_{id}.png'\n",
    "    cv2.imwrite(tag_name, tag)"
   ]
  },
  {
   "cell_type": "code",
   "execution_count": 65,
   "id": "6a37cf74-28fb-4708-91c4-d87c7c4bfbbe",
   "metadata": {},
   "outputs": [],
   "source": [
    "# Вычисление систем координат маркеров в системе коррдинат базы\n",
    "\n",
    "X, Y, Z = (np.linspace(0, n_markers*step, n_markers, endpoint=False), np.zeros(n_markers), np.zeros(n_markers))\n",
    "\n",
    "def M_X(a):\n",
    "    c, s = np.cos(a), np.sin(a)\n",
    "    return np.array([[1,  0,  0],\n",
    "                     [0,  c, -s],\n",
    "                     [0,  s,  c]])\n",
    "\n",
    "def M_Y(a):\n",
    "    c, s = np.cos(a), np.sin(a)\n",
    "    return np.array([[c, -s,  0],\n",
    "                     [s,  c,  0],\n",
    "                     [0,  0,  1]])\n",
    "\n",
    "def M_Z(a):\n",
    "    c, s = np.cos(a), np.sin(a)\n",
    "    return np.array([[ c,  0,  s],\n",
    "                     [ 0,  1,  0],\n",
    "                     [-s,  0,  c]])\n",
    "\n",
    "a = -90 * 3.1415/180 # угол поворота \n",
    "M = M_X(a) # только одно вращение вокруг оси X"
   ]
  },
  {
   "cell_type": "code",
   "execution_count": 66,
   "id": "410df3f4-7b40-4f60-bd32-4bcac9cda6af",
   "metadata": {},
   "outputs": [],
   "source": [
    "marker_poses = [np.vstack([np.column_stack([M, np.array([x, y, z])]), [0,0,0,1]]) for x, y, z in zip(X, Y, Z)]"
   ]
  },
  {
   "cell_type": "code",
   "execution_count": 67,
   "id": "521844ae-3fad-49eb-b319-afc1a305a9a1",
   "metadata": {},
   "outputs": [],
   "source": [
    "marker_poses_dict = dict(zip(range(n_markers), marker_poses))"
   ]
  },
  {
   "cell_type": "code",
   "execution_count": 68,
   "id": "dc3ce26e-763c-40f7-85c7-2b19f87ee96c",
   "metadata": {},
   "outputs": [
    {
     "data": {
      "text/plain": [
       "{0: array([[ 1.00000000e+00,  0.00000000e+00,  0.00000000e+00,\n",
       "          0.00000000e+00],\n",
       "        [ 0.00000000e+00,  4.63267949e-05,  9.99999999e-01,\n",
       "          0.00000000e+00],\n",
       "        [ 0.00000000e+00, -9.99999999e-01,  4.63267949e-05,\n",
       "          0.00000000e+00],\n",
       "        [ 0.00000000e+00,  0.00000000e+00,  0.00000000e+00,\n",
       "          1.00000000e+00]]),\n",
       " 1: array([[ 1.00000000e+00,  0.00000000e+00,  0.00000000e+00,\n",
       "          2.09500000e+00],\n",
       "        [ 0.00000000e+00,  4.63267949e-05,  9.99999999e-01,\n",
       "          0.00000000e+00],\n",
       "        [ 0.00000000e+00, -9.99999999e-01,  4.63267949e-05,\n",
       "          0.00000000e+00],\n",
       "        [ 0.00000000e+00,  0.00000000e+00,  0.00000000e+00,\n",
       "          1.00000000e+00]]),\n",
       " 2: array([[ 1.00000000e+00,  0.00000000e+00,  0.00000000e+00,\n",
       "          4.19000000e+00],\n",
       "        [ 0.00000000e+00,  4.63267949e-05,  9.99999999e-01,\n",
       "          0.00000000e+00],\n",
       "        [ 0.00000000e+00, -9.99999999e-01,  4.63267949e-05,\n",
       "          0.00000000e+00],\n",
       "        [ 0.00000000e+00,  0.00000000e+00,  0.00000000e+00,\n",
       "          1.00000000e+00]])}"
      ]
     },
     "execution_count": 68,
     "metadata": {},
     "output_type": "execute_result"
    }
   ],
   "source": [
    "marker_poses_dict"
   ]
  },
  {
   "cell_type": "code",
   "execution_count": 69,
   "id": "4692604e-3b15-47eb-82a7-01ae3e7d0f3d",
   "metadata": {
    "editable": true,
    "slideshow": {
     "slide_type": ""
    },
    "tags": []
   },
   "outputs": [],
   "source": [
    "with open(f\"{savedir}/marker_poses.pk\", \"wb\") as f:\n",
    "    pk.dump(marker_poses_dict, f)"
   ]
  },
  {
   "cell_type": "code",
   "execution_count": null,
   "id": "6e8c5b3c-d0d4-49da-8cda-6b8e18dc0528",
   "metadata": {
    "editable": true,
    "slideshow": {
     "slide_type": ""
    },
    "tags": []
   },
   "outputs": [],
   "source": []
  },
  {
   "cell_type": "code",
   "execution_count": null,
   "id": "8a6a3130-c096-45eb-828b-659cc0dc6d71",
   "metadata": {},
   "outputs": [],
   "source": []
  },
  {
   "cell_type": "code",
   "execution_count": null,
   "id": "384b3050-79c9-4ae3-b0c3-166d74cd8a6f",
   "metadata": {
    "editable": true,
    "slideshow": {
     "slide_type": ""
    },
    "tags": []
   },
   "outputs": [],
   "source": []
  }
 ],
 "metadata": {
  "kernelspec": {
   "display_name": "Python 3 (ipykernel)",
   "language": "python",
   "name": "python3"
  },
  "language_info": {
   "codemirror_mode": {
    "name": "ipython",
    "version": 3
   },
   "file_extension": ".py",
   "mimetype": "text/x-python",
   "name": "python",
   "nbconvert_exporter": "python",
   "pygments_lexer": "ipython3",
   "version": "3.10.13"
  }
 },
 "nbformat": 4,
 "nbformat_minor": 5
}
