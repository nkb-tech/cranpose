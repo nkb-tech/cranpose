{
 "cells": [
  {
   "cell_type": "code",
   "execution_count": null,
   "id": "79afc21c-ebf0-4271-a720-a4be7e15f8fc",
   "metadata": {},
   "outputs": [],
   "source": [
    "# Блокнот демонстрирует функционал использования класса PoseMultiple на примере кадов с рендера"
   ]
  },
  {
   "cell_type": "code",
   "execution_count": null,
   "id": "328cf2e2-a9c2-4f62-b276-ef01fba87dc9",
   "metadata": {},
   "outputs": [],
   "source": [
    "# Импортирование модулей"
   ]
  },
  {
   "cell_type": "code",
   "execution_count": null,
   "id": "ee1233f3-7dd9-4bd3-8076-540f81bdd83d",
   "metadata": {},
   "outputs": [],
   "source": [
    "import os, sys"
   ]
  },
  {
   "cell_type": "code",
   "execution_count": null,
   "id": "e68a3c34-49d3-4f82-805d-4ba670355634",
   "metadata": {},
   "outputs": [],
   "source": [
    "base_dir = os.path.split(os.getcwd())[0]\n",
    "os.chdir(os.path.join(base_dir))"
   ]
  },
  {
   "cell_type": "code",
   "execution_count": null,
   "id": "907fb50b-806e-4131-ab60-ff687d14cfdb",
   "metadata": {},
   "outputs": [],
   "source": [
    "import pickle as pk\n",
    "\n",
    "import numpy as np\n",
    "import cv2\n",
    "import sys\n",
    "import argparse\n",
    "import time\n",
    "import copy\n",
    "import datetime\n",
    "import yaml\n",
    "from time import time\n",
    "\n",
    "import matplotlib.pyplot as plt\n",
    "\n",
    "from cranpose.utils import ARUCO_DICT, display_pose\n",
    "from cranpose.estimators import PoseSingle, PoseMultiple, PoseSpecial"
   ]
  },
  {
   "cell_type": "code",
   "execution_count": null,
   "id": "044a5013-806e-46ba-a8f9-8db935231e20",
   "metadata": {},
   "outputs": [],
   "source": [
    "from scipy.spatial.transform import Rotation as R"
   ]
  },
  {
   "cell_type": "code",
   "execution_count": null,
   "id": "dc498c29-3a0d-4d37-be7f-70ce4da2d1e0",
   "metadata": {},
   "outputs": [],
   "source": [
    "# Создание экземпляра класса PoseSingle "
   ]
  },
  {
   "cell_type": "code",
   "execution_count": null,
   "id": "1ee8c3a1-17b2-4cab-ae67-09837ff7dc79",
   "metadata": {
    "editable": true,
    "scrolled": true,
    "slideshow": {
     "slide_type": ""
    },
    "tags": []
   },
   "outputs": [],
   "source": [
    "# путь к матрице калибровки\n",
    "calibration_matrix_path = \"calib/calibration_matrix_render_calib.npy\"\n",
    "# путь к коэффициентам дисторсии\n",
    "distortion_coefficients_path = \"calib/distortion_coefficients_render_calib.npy\"\n",
    "# длина стороны маркера в метрах\n",
    "edge_len = 0.7\n",
    "# шаг, с которым маркеры установлены\n",
    "marker_step = 10\n",
    "# максимальное число маркеров\n",
    "n_markers = 100\n",
    "\n",
    "# путь к конфигу с позициями маркеров\n",
    "config_filename = \"jupyters/marker_poses.yaml\"\n",
    "\n",
    "# загрузка конфига\n",
    "with open(config_filename, encoding='utf8') as f:\n",
    "    cfg = yaml.load(f, Loader=yaml.FullLoader)\n",
    "\n",
    "# нам нужен дикт\n",
    "marker_poses = dict(\n",
    "    zip([id for id in range(len(cfg['poses']))], \n",
    "        cfg['poses']))\n",
    "\n",
    "# тип маркеров (в проде будет \"DICT_5X5_50\" !!!)\n",
    "type_ = \"DICT_7X7_100\"\n",
    "if ARUCO_DICT.get(type_, None) is None:\n",
    "    print(f\"ArUCo tag type '{type_}' is not supported\")\n",
    "    sys.exit(0)\n",
    "aruco_dict_type = ARUCO_DICT[type_]\n",
    "\n",
    "k = np.load(calibration_matrix_path)\n",
    "d = np.load(distortion_coefficients_path)\n",
    "\n",
    "# Создание двух сингл эстимэйторов\n",
    "\n",
    "# Эстимэйтор для фронтальной камеры! \n",
    "estimator_front = PoseSingle(\n",
    "    aruco_dict_type,\n",
    "    1, # ориентация камеры: -1 для задней камеры, 1 для фронтальной !!!\n",
    "    n_markers,\n",
    "    marker_poses,\n",
    "    edge_len,\n",
    "    k,\n",
    "    d)\n",
    "\n",
    "# Эстимэйтор для задней камеры! \n",
    "estimator_rear = PoseSingle(\n",
    "    aruco_dict_type,\n",
    "    -1, # ориентация камеры: -1 для задней камеры, 1 для фронтальной !!!\n",
    "    n_markers,\n",
    "    marker_poses,\n",
    "    edge_len,\n",
    "    k,\n",
    "    d)"
   ]
  },
  {
   "cell_type": "code",
   "execution_count": null,
   "id": "8f9ee140-71a1-4cd1-9baf-434b73f59461",
   "metadata": {},
   "outputs": [],
   "source": [
    "# Загрузка кадра с фронтальной камеры\n",
    "image_front = 'demo_data/front.png'\n",
    "image_front = cv2.imread(image_front)\n",
    "plt.imshow(cv2.cvtColor(image_front, cv2.COLOR_BGR2RGB))\n",
    "plt.show()"
   ]
  },
  {
   "cell_type": "code",
   "execution_count": null,
   "id": "47a019f6-791f-493b-bfa8-caadfee0a937",
   "metadata": {},
   "outputs": [],
   "source": [
    "# Загрузка кадра с задней камеры\n",
    "image_rear = 'demo_data/rear.png'\n",
    "image_rear = cv2.imread(image_rear)\n",
    "plt.imshow(cv2.cvtColor(image_rear, cv2.COLOR_BGR2RGB))\n",
    "plt.show()"
   ]
  },
  {
   "cell_type": "code",
   "execution_count": null,
   "id": "9637ef73-3bae-4735-9ac4-1bdb9880578b",
   "metadata": {},
   "outputs": [],
   "source": [
    "frame, pose, size = estimator_front(image_front, vis_movement=False, vis_detections=True)\n",
    "\n",
    "plt.imshow(cv2.cvtColor(frame, cv2.COLOR_BGR2RGB))\n",
    "plt.show()\n",
    "print(pose)"
   ]
  },
  {
   "cell_type": "code",
   "execution_count": null,
   "id": "6f3a966e-1f35-4245-b713-93405e87a595",
   "metadata": {},
   "outputs": [],
   "source": [
    "frame, pose, size = estimator_rear(image_rear, vis_movement=False, vis_detections=True)\n",
    "\n",
    "plt.imshow(cv2.cvtColor(frame, cv2.COLOR_BGR2RGB))\n",
    "plt.show()\n",
    "print(pose)"
   ]
  },
  {
   "cell_type": "code",
   "execution_count": null,
   "id": "f9588bbd-2574-4048-aa73-dd6f21e36ea3",
   "metadata": {},
   "outputs": [],
   "source": [
    "# ФПС\n",
    "t1 = time()\n",
    "for _ in range(100):\n",
    "    frame, pose, size = estimator_rear(image_rear, vis_movement=False, vis_detections=True)\n",
    "t2 = time()\n",
    "print(t2-t1, 'sec, ', 100/(t2-t1), 'fps')"
   ]
  },
  {
   "cell_type": "code",
   "execution_count": null,
   "id": "29465be1-228b-4632-a7b5-5398bb365c86",
   "metadata": {},
   "outputs": [],
   "source": [
    "# А вот так без отрисовки детекции на фрейме\n",
    "t1 = time()\n",
    "for _ in range(100):\n",
    "    frame, pose, size = estimator_rear(image_rear, vis_movement=False, vis_detections=False)\n",
    "t2 = time()\n",
    "print(t2-t1, 'sec, ', 100/(t2-t1), 'fps')"
   ]
  },
  {
   "cell_type": "code",
   "execution_count": null,
   "id": "0ff78709-1a74-4a20-8c11-2b57c0996ee5",
   "metadata": {},
   "outputs": [],
   "source": [
    "# Предсказание при отсутствии обнаружения маркеров\n",
    "# Возвращаются ПОСЛЕДНИЕ КООРДИНАТЫ\n",
    "frame, pose, size = estimator_front(cv2.imread('demo_data/sk.jpg'), vis_movement=False, vis_detections=True)\n",
    "\n",
    "plt.imshow(cv2.cvtColor(frame, cv2.COLOR_BGR2RGB))\n",
    "plt.show()\n",
    "print(pose)"
   ]
  },
  {
   "cell_type": "code",
   "execution_count": null,
   "id": "0814933d-1455-4013-bd97-99faa1e23fff",
   "metadata": {},
   "outputs": [],
   "source": [
    "# Создание экзмепляра класса PoseMultiple\n",
    "estimator_mean = PoseMultiple(\n",
    "    [estimator_front, estimator_rear])"
   ]
  },
  {
   "cell_type": "code",
   "execution_count": null,
   "id": "74d3ea8e",
   "metadata": {},
   "outputs": [],
   "source": [
    "# Случай, когда приходят два нона\n",
    "estimator_mean([None, None])"
   ]
  },
  {
   "cell_type": "code",
   "execution_count": null,
   "id": "a6262e84",
   "metadata": {},
   "outputs": [],
   "source": [
    "# Случай, когда приходит один нон и нет предсказания на втором фрейме\n",
    "estimator_mean([None, cv2.imread('demo_data/sk.jpg')])"
   ]
  },
  {
   "cell_type": "code",
   "execution_count": null,
   "id": "cd116110",
   "metadata": {},
   "outputs": [],
   "source": [
    "# Случай, когда приходит один нон и есть предсказание на втором фрейме\n",
    "estimator_mean([None, image_rear])"
   ]
  },
  {
   "cell_type": "code",
   "execution_count": null,
   "id": "7a7c25c2",
   "metadata": {},
   "outputs": [],
   "source": [
    "# Случай, когда не предсказывает ни один эстимейтор\n",
    "estimator_mean([cv2.imread('demo_data/sk.jpg'), cv2.imread('demo_data/sk.jpg')])"
   ]
  },
  {
   "cell_type": "code",
   "execution_count": null,
   "id": "baf83db5-3f22-4d9f-8e2b-e4bb4cf23412",
   "metadata": {},
   "outputs": [],
   "source": [
    "# Случай, когда предсказывают не все эстимейторы\n",
    "estimator_mean([cv2.imread('demo_data/sk.jpg'), image_rear])"
   ]
  },
  {
   "cell_type": "code",
   "execution_count": null,
   "id": "abc397c7-84d9-4112-9658-e6559a7ac7ba",
   "metadata": {},
   "outputs": [],
   "source": [
    "# Случай, когда предсказывают все эстимейторы\n",
    "estimator_mean([image_front, image_rear])"
   ]
  },
  {
   "cell_type": "code",
   "execution_count": null,
   "id": "460fba98-c332-4b15-bd85-1aabdf5cba74",
   "metadata": {},
   "outputs": [],
   "source": [
    "# Кооридната X предсказания:\n",
    "estimator_mean([image_front, image_rear])[0,3]"
   ]
  },
  {
   "cell_type": "code",
   "execution_count": null,
   "id": "038defb0-220b-4534-b8cc-082d7dacfde6",
   "metadata": {},
   "outputs": [],
   "source": [
    "# Настройка фильра Калмана\n",
    "multiple_estimator_kf = PoseMultiple(estimators=[\n",
    "    estimator_front, estimator_rear],\n",
    "    apply_kf=True,\n",
    "    kf_transition_covariance=np.array([[1,1,1],\n",
    "                                       [1,1,1],\n",
    "                                       [1,1,1]]),   # этот массив 3 на 3\n",
    "    kf_observation_covariance=np.array([1]))        # этот массив 1 на 1\n",
    "# kf_transition_covariance и kf_observation_covariance имеют дефолтные значения.\n",
    "# их можно также изменить в cranpose/default_config.yaml\n"
   ]
  },
  {
   "cell_type": "code",
   "execution_count": null,
   "id": "8678e80d",
   "metadata": {},
   "outputs": [],
   "source": [
    "# Настройка детекции двжиения камеры\n",
    "from cranpose.cammovement import CameraMovement, AbsdiffComparison\n",
    "\n",
    "estimator_with_movement = PoseSingle(\n",
    "    aruco_dict_type,\n",
    "    1,\n",
    "    n_markers,\n",
    "    marker_poses,\n",
    "    edge_len,\n",
    "    k,\n",
    "    d,\n",
    "    camera_movement=CameraMovement(AbsdiffComparison(4,4))\n",
    "    )"
   ]
  },
  {
   "cell_type": "code",
   "execution_count": null,
   "metadata": {},
   "outputs": [],
   "source": [
    "# Специальный эстимейтор\n",
    "# Special estimator\n",
    "\n",
    "type_ = \"DICT_5X5_50\"\n",
    "\n",
    "if ARUCO_DICT.get(type_, None) is None:\n",
    "    print(f\"ArUCo tag type '{type_}' is not supported\")\n",
    "    sys.exit(0)\n",
    "\n",
    "aruco_dict_type = ARUCO_DICT[type_]\n",
    "\n",
    "special_estimator = PoseSpecial(\n",
    "        aruco_dict_type = aruco_dict_type,\n",
    "        marker_id = 38,\n",
    "        marker_edge_len = 0.8,\n",
    "        matrix_coefficients = k,\n",
    "        distortion_coefficients = d,\n",
    "        z_bias = 0,\n",
    "        debug = False,\n",
    ")"
   ]
  },
  {
   "cell_type": "code",
   "execution_count": null,
   "metadata": {},
   "outputs": [],
   "source": [
    "# Run on image\n",
    "image_special = 'demo_data/special.png'\n",
    "\n",
    "image_special = cv2.imread(image_special)\n",
    "\n",
    "output, pose = special_estimator(image_special, return_frame = True)\n",
    "\n",
    "output = cv2.cvtColor(output, cv2.COLOR_BGR2RGB)\n",
    "\n",
    "if pose.shape!=():\n",
    "    output = display_pose(output, pose[:-1,[3]])\n",
    "    \n",
    "plt.imshow(output)\n",
    "plt.show()"
   ]
  },
  {
   "cell_type": "code",
   "execution_count": null,
   "metadata": {},
   "outputs": [],
   "source": [
    "cv2.__version__"
   ]
  },
  {
   "cell_type": "code",
   "execution_count": null,
   "metadata": {},
   "outputs": [],
   "source": []
  }
 ],
 "metadata": {
  "kernelspec": {
   "display_name": "Python 3 (ipykernel)",
   "language": "python",
   "name": "python3"
  },
  "language_info": {
   "codemirror_mode": {
    "name": "ipython",
    "version": 3
   },
   "file_extension": ".py",
   "mimetype": "text/x-python",
   "name": "python",
   "nbconvert_exporter": "python",
   "pygments_lexer": "ipython3",
   "version": "3.10.13"
  }
 },
 "nbformat": 4,
 "nbformat_minor": 5
}
