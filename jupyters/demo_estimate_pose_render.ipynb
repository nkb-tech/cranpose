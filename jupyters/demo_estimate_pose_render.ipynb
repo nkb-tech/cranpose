{
 "cells": [
  {
   "cell_type": "code",
   "execution_count": null,
   "id": "ee1233f3-7dd9-4bd3-8076-540f81bdd83d",
   "metadata": {},
   "outputs": [],
   "source": [
    "import os, sys"
   ]
  },
  {
   "cell_type": "code",
   "execution_count": null,
   "id": "e68a3c34-49d3-4f82-805d-4ba670355634",
   "metadata": {},
   "outputs": [],
   "source": [
    "base_dir = os.path.split(os.getcwd())[0]\n",
    "os.chdir(os.path.join(base_dir,'core'))"
   ]
  },
  {
   "cell_type": "code",
   "execution_count": null,
   "id": "907fb50b-806e-4131-ab60-ff687d14cfdb",
   "metadata": {},
   "outputs": [],
   "source": [
    "import pickle as pk\n",
    "\n",
    "import numpy as np\n",
    "import cv2\n",
    "import sys\n",
    "import argparse\n",
    "import time\n",
    "import copy\n",
    "import datetime\n",
    "import yaml\n",
    "\n",
    "import matplotlib.pyplot as plt\n",
    "\n",
    "from utils import ARUCO_DICT, display_pose\n",
    "from estimators import PoseSingle, PoseSpecial"
   ]
  },
  {
   "cell_type": "code",
   "execution_count": null,
   "id": "044a5013-806e-46ba-a8f9-8db935231e20",
   "metadata": {},
   "outputs": [],
   "source": [
    "from scipy.spatial.transform import Rotation as R"
   ]
  },
  {
   "cell_type": "code",
   "execution_count": null,
   "id": "1ee8c3a1-17b2-4cab-ae67-09837ff7dc79",
   "metadata": {
    "editable": true,
    "scrolled": true,
    "slideshow": {
     "slide_type": ""
    },
    "tags": []
   },
   "outputs": [],
   "source": [
    "k_matrix = \"../calib/calibration_matrix_render_calib.npy\"\n",
    "d_coeff = \"../calib/distortion_coefficients_render_calib.npy\"\n",
    "m_dict = \"../demo_tags/marker_poses.pk\"\n",
    "edge_len = 0.7\n",
    "marker_step = 8\n",
    "n_markers = 100\n",
    "\n",
    "type_ = \"DICT_7X7_100\"\n",
    "\n",
    "if ARUCO_DICT.get(type_, None) is None:\n",
    "    print(f\"ArUCo tag type '{type_}' is not supported\")\n",
    "    sys.exit(0)\n",
    "\n",
    "aruco_dict_type = ARUCO_DICT[type_]\n",
    "calibration_matrix_path = k_matrix\n",
    "distortion_coefficients_path = d_coeff\n",
    "marker_dict_path = m_dict\n",
    "\n",
    "\n",
    "k = np.load(calibration_matrix_path)\n",
    "d = np.load(distortion_coefficients_path)\n",
    "\n",
    "# путь к конфигу с позициями маркеров\n",
    "config_filename = \"../jupyters/marker_poses.yaml\"\n",
    "\n",
    "# загрузка конфига\n",
    "with open(config_filename, encoding='utf8') as f:\n",
    "    cfg = yaml.load(f, Loader=yaml.FullLoader)\n",
    "\n",
    "# нам нужен дикт\n",
    "marker_poses = dict(\n",
    "    zip([id for id in range(len(cfg['poses']))], \n",
    "        cfg['poses']))\n",
    "\n",
    "\n",
    "with open(marker_dict_path,'rb') as f:\n",
    "    marker_dict = pk.load(f)\n",
    "\n",
    "estimator = PoseSingle(aruco_dict_type,\n",
    "                       1,\n",
    "                       n_markers,\n",
    "                       marker_poses,\n",
    "                       edge_len,\n",
    "                       k,\n",
    "                       d)"
   ]
  },
  {
   "cell_type": "code",
   "execution_count": null,
   "id": "040b94b5-e38e-4658-9880-175d415d91fd",
   "metadata": {},
   "outputs": [],
   "source": [
    "# Test on single image\n",
    "image = \"../data/render_distance/frames_front/481.png\"\n",
    "\n",
    "image = cv2.imread(image)\n",
    "time.sleep(.1)\n",
    "\n",
    "# output = cv2.cvtColor(image, cv2.COLOR_BGR2RGB)\n",
    "\n",
    "# plt.imshow(output)\n",
    "# plt.show()\n",
    "\n",
    "frame, pose, size = estimator(image, True)\n",
    "\n",
    "output = cv2.cvtColor(frame, cv2.COLOR_BGR2RGB)\n",
    "\n",
    "output = display_pose(output, pose[:-1,[3]])\n",
    "\n",
    "plt.imshow(output)\n",
    "plt.show()\n",
    "print(pose)"
   ]
  },
  {
   "cell_type": "code",
   "execution_count": null,
   "id": "44ea86f9-5197-4ac5-8d55-40482f1d7ba2",
   "metadata": {},
   "outputs": [],
   "source": [
    "# Test on multiple images\n",
    "for i in range(486,488):\n",
    "    print(i)\n",
    "    image = cv2.imread(f\"../data/render_distance/frames_front/{i}.png\")\n",
    "    time.sleep(.1)\n",
    "    \n",
    "    # output = cv2.cvtColor(image, cv2.COLOR_BGR2RGB)\n",
    "    \n",
    "    # plt.imshow(output)\n",
    "    # plt.show()\n",
    "    \n",
    "    frame, pose, size = estimator(image, True)\n",
    "    \n",
    "    output = cv2.cvtColor(frame, cv2.COLOR_BGR2RGB)\n",
    "    try:\n",
    "        output = display_pose(output, pose[:-1,[3]])\n",
    "    except: continue\n",
    "    plt.imshow(output)\n",
    "    plt.show()\n",
    "    print(pose)\n",
    "    "
   ]
  },
  {
   "cell_type": "code",
   "execution_count": null,
   "id": "38071a9c-bb12-4394-ab66-b65ccd9b5087",
   "metadata": {},
   "outputs": [],
   "source": [
    "# Special estimator\n",
    "\n",
    "type_ = \"DICT_5X5_50\"\n",
    "\n",
    "if ARUCO_DICT.get(type_, None) is None:\n",
    "    print(f\"ArUCo tag type '{type_}' is not supported\")\n",
    "    sys.exit(0)\n",
    "\n",
    "aruco_dict_type = ARUCO_DICT[type_]\n",
    "\n",
    "special_estimator = PoseSpecial(\n",
    "        aruco_dict_type = aruco_dict_type,\n",
    "        # camera_orientation = 1,\n",
    "        marker_id = 38,\n",
    "        marker_edge_len = 0.8,\n",
    "        matrix_coefficients = k,\n",
    "        distortion_coefficients = d,\n",
    "        # apply_kf = False,\n",
    "        z_bias = 0,\n",
    "        debug = False,\n",
    ")"
   ]
  },
  {
   "cell_type": "code",
   "execution_count": null,
   "metadata": {},
   "outputs": [],
   "source": [
    "# Run on image\n",
    "image_special = '../data/render_special/frames/1250.png'\n",
    "\n",
    "image_special = cv2.imread(image_special)\n",
    "time.sleep(.1)\n",
    "\n",
    "output, pose = special_estimator(image_special, return_frame = True)"
   ]
  },
  {
   "cell_type": "code",
   "execution_count": null,
   "metadata": {},
   "outputs": [],
   "source": [
    "pose"
   ]
  },
  {
   "cell_type": "code",
   "execution_count": null,
   "metadata": {},
   "outputs": [],
   "source": [
    "output = cv2.cvtColor(output, cv2.COLOR_BGR2RGB)\n",
    "plt.imshow(output)\n",
    "plt.show()"
   ]
  },
  {
   "cell_type": "code",
   "execution_count": null,
   "metadata": {},
   "outputs": [],
   "source": [
    "# Run on video\n",
    "source_fn = '../data/render_special/Nlmk_Build_special.mp4'\n",
    "target_fn = '../data/render_special/Nlmk_Build_special.mov'\n",
    "\n",
    "cap = cv2.VideoCapture(source_fn)\n",
    "\n",
    "width  = int(cap.get(cv2.CAP_PROP_FRAME_WIDTH))\n",
    "height = int(cap.get(cv2.CAP_PROP_FRAME_HEIGHT))\n",
    "fps = int(cap.get(cv2.CAP_PROP_FRAME_COUNT)/10)\n",
    "length = int(cap.get(cv2.CAP_PROP_FRAME_COUNT))\n",
    "\n",
    "estimator_video = special_estimator\n",
    "\n",
    "out = cv2.VideoWriter(target_fn, cv2.VideoWriter_fourcc('M','J','P','G'), 30, (width,height))\n",
    "\n",
    "if (cap.isOpened()== False): \n",
    "  print(\"Error opening video stream or file\")\n",
    "\n",
    "x_poses_rear_nokf = []\n",
    "\n",
    "while(cap.isOpened()):\n",
    "    # Capture frame-by-frame\n",
    "    ret, frame = cap.read()\n",
    "    if ret == True:\n",
    "        frame, pose = estimator_video(frame, True)\n",
    "        # print(type(pose))\n",
    "        output = frame#cv2.cvtColor(frame, cv2.COLOR_BGR2RGB)\n",
    "        # print(pose.shape==())\n",
    "        if pose.shape!=():\n",
    "            output = display_pose(output, pose[:-1,[3]])\n",
    "            x_poses_rear_nokf.append(pose[0][3])\n",
    "        else:\n",
    "            x_poses_rear_nokf.append(-1)\n",
    "            \n",
    "        out.write(output)\n",
    "  # Break the loop\n",
    "    else: \n",
    "        break\n",
    "\n",
    "cap.release()\n",
    "out.release()"
   ]
  },
  {
   "cell_type": "code",
   "execution_count": null,
   "metadata": {},
   "outputs": [],
   "source": []
  }
 ],
 "metadata": {
  "kernelspec": {
   "display_name": "Python 3 (ipykernel)",
   "language": "python",
   "name": "python3"
  },
  "language_info": {
   "codemirror_mode": {
    "name": "ipython",
    "version": 3
   },
   "file_extension": ".py",
   "mimetype": "text/x-python",
   "name": "python",
   "nbconvert_exporter": "python",
   "pygments_lexer": "ipython3",
   "version": "3.10.13"
  }
 },
 "nbformat": 4,
 "nbformat_minor": 5
}
