{
 "cells": [
  {
   "cell_type": "code",
   "execution_count": null,
   "id": "ee1233f3-7dd9-4bd3-8076-540f81bdd83d",
   "metadata": {},
   "outputs": [],
   "source": [
    "import os, sys"
   ]
  },
  {
   "cell_type": "code",
   "execution_count": null,
   "id": "e68a3c34-49d3-4f82-805d-4ba670355634",
   "metadata": {},
   "outputs": [],
   "source": [
    "base_dir = os.path.split(os.getcwd())[0]\n",
    "os.chdir(os.path.join(base_dir,'core'))"
   ]
  },
  {
   "cell_type": "code",
   "execution_count": null,
   "id": "907fb50b-806e-4131-ab60-ff687d14cfdb",
   "metadata": {},
   "outputs": [],
   "source": [
    "import pickle as pk\n",
    "\n",
    "import numpy as np\n",
    "import cv2\n",
    "import sys\n",
    "import argparse\n",
    "import time\n",
    "import copy\n",
    "import datetime\n",
    "\n",
    "import matplotlib.pyplot as plt\n",
    "\n",
    "from utils import ARUCO_DICT, display_pose\n",
    "from posesingle import PoseSingle"
   ]
  },
  {
   "cell_type": "code",
   "execution_count": null,
   "id": "044a5013-806e-46ba-a8f9-8db935231e20",
   "metadata": {},
   "outputs": [],
   "source": []
  },
  {
   "cell_type": "code",
   "execution_count": null,
   "id": "1ee8c3a1-17b2-4cab-ae67-09837ff7dc79",
   "metadata": {
    "editable": true,
    "scrolled": true,
    "slideshow": {
     "slide_type": ""
    },
    "tags": []
   },
   "outputs": [],
   "source": [
    "k_matrix = \"../calib/calibration_matrix_hikvision.npy\"\n",
    "d_coeff = \"../calib/distortion_coefficients_hikvision.npy\"\n",
    "m_dict = \"../demo_tags/marker_poses.pk\"\n",
    "edge_len = 0.1645\n",
    "marker_step = 2.095\n",
    "n_markers = 4\n",
    "\n",
    "type_ = \"DICT_7X7_100\"\n",
    "\n",
    "if ARUCO_DICT.get(type_, None) is None:\n",
    "    print(f\"ArUCo tag type '{type_}' is not supported\")\n",
    "    sys.exit(0)\n",
    "\n",
    "aruco_dict_type = ARUCO_DICT[type_]\n",
    "calibration_matrix_path = k_matrix\n",
    "distortion_coefficients_path = d_coeff\n",
    "marker_dict_path = m_dict\n",
    "\n",
    "\n",
    "k = np.load(calibration_matrix_path)\n",
    "d = np.load(distortion_coefficients_path)\n",
    "\n",
    "with open(marker_dict_path,'rb') as f:\n",
    "    marker_dict = pk.load(f)\n",
    "\n",
    "estimator = PoseSingle(aruco_dict_type,\n",
    "                       n_markers,\n",
    "                       marker_step,\n",
    "                       edge_len,\n",
    "                       k,\n",
    "                       d)"
   ]
  },
  {
   "cell_type": "code",
   "execution_count": null,
   "id": "040b94b5-e38e-4658-9880-175d415d91fd",
   "metadata": {},
   "outputs": [],
   "source": [
    "# Test on single image\n",
    "image = \"../data/hikvision/demo1/frames_r/3.png\"\n",
    "\n",
    "image = cv2.imread(image)\n",
    "time.sleep(.1)\n",
    "\n",
    "# output = cv2.cvtColor(image, cv2.COLOR_BGR2RGB)\n",
    "\n",
    "# plt.imshow(output)\n",
    "# plt.show()\n",
    "\n",
    "frame, pose, dt, size = estimator(image, \"now\", True)\n",
    "\n",
    "output = cv2.cvtColor(frame, cv2.COLOR_BGR2RGB)\n",
    "\n",
    "output = display_pose(output, pose[:-1,[3]])\n",
    "\n",
    "plt.imshow(output)\n",
    "plt.show()\n",
    "print(pose)"
   ]
  },
  {
   "cell_type": "code",
   "execution_count": null,
   "id": "44ea86f9-5197-4ac5-8d55-40482f1d7ba2",
   "metadata": {},
   "outputs": [],
   "source": [
    "# Test on multiple images\n",
    "for i in range(318,320):\n",
    "    print(i)\n",
    "    image = cv2.imread(f\"../data/hikvision/demo1/frames_f/{i}.png\")\n",
    "    time.sleep(.1)\n",
    "    \n",
    "    # output = cv2.cvtColor(image, cv2.COLOR_BGR2RGB)\n",
    "    \n",
    "    # plt.imshow(output)\n",
    "    # plt.show()\n",
    "    \n",
    "    frame, pose, dt, size = estimator(image, \"now\", True)\n",
    "    \n",
    "    output = cv2.cvtColor(frame, cv2.COLOR_BGR2RGB)\n",
    "    try:\n",
    "        output = display_pose(output, pose[:-1,[3]])\n",
    "    except: continue\n",
    "    plt.imshow(output)\n",
    "    plt.show()\n",
    "    print(pose)\n",
    "    "
   ]
  },
  {
   "cell_type": "code",
   "execution_count": null,
   "id": "a5595dda-1370-42ed-ba1b-62fb64a43e4c",
   "metadata": {},
   "outputs": [],
   "source": [
    "frame.shape"
   ]
  },
  {
   "cell_type": "code",
   "execution_count": null,
   "id": "2a209421-9e39-4b39-b5af-702502fdb611",
   "metadata": {
    "editable": true,
    "slideshow": {
     "slide_type": ""
    },
    "tags": []
   },
   "outputs": [],
   "source": [
    "# Alter intrinsic matrix with resolutoin change\n",
    "k_video = copy.deepcopy(k)\n",
    "k_video[1,1] = k_video[1,1] * 720/960\n",
    "\n",
    "# or\n",
    "\n",
    "k_video = k"
   ]
  },
  {
   "cell_type": "code",
   "execution_count": null,
   "id": "ad0985b0-66d7-4201-a2b6-c7bae896de5f",
   "metadata": {
    "editable": true,
    "slideshow": {
     "slide_type": ""
    },
    "tags": []
   },
   "outputs": [],
   "source": [
    "# np.save(\"camera_matrix_video.npy\", k_video)"
   ]
  },
  {
   "cell_type": "code",
   "execution_count": null,
   "id": "3f428e9e-74d6-465e-9f5b-9e7ebc1bf7e0",
   "metadata": {},
   "outputs": [],
   "source": [
    "cap = cv2.VideoCapture('../data/hikvision/demo1/r.mp4')"
   ]
  },
  {
   "cell_type": "code",
   "execution_count": null,
   "id": "43936414-fc6c-4c69-91bd-9002d7668854",
   "metadata": {},
   "outputs": [],
   "source": [
    "width  = int(cap.get(cv2.CAP_PROP_FRAME_WIDTH))\n",
    "height = int(cap.get(cv2.CAP_PROP_FRAME_HEIGHT))\n",
    "fps = int(cap.get(cv2.CAP_PROP_FRAME_COUNT)/10)\n",
    "length = int(cap.get(cv2.CAP_PROP_FRAME_COUNT))\n",
    "\n",
    "estimator_video = PoseSingle(\n",
    "    aruco_dict_type,\n",
    "    n_markers,\n",
    "    marker_step,\n",
    "    edge_len,\n",
    "    k,\n",
    "    d\n",
    ")\n",
    "\n",
    "out = cv2.VideoWriter('../data/results/hikvision_r_weighted_flip.mov', cv2.VideoWriter_fourcc('M','J','P','G'), 30, (width,height))"
   ]
  },
  {
   "cell_type": "code",
   "execution_count": null,
   "id": "3d389cf5-7467-4881-91d0-43650e277518",
   "metadata": {
    "editable": true,
    "scrolled": true,
    "slideshow": {
     "slide_type": ""
    },
    "tags": []
   },
   "outputs": [],
   "source": [
    "if (cap.isOpened()== False): \n",
    "  print(\"Error opening video stream or file\")\n",
    "\n",
    "while(cap.isOpened()):\n",
    "    # Capture frame-by-frame\n",
    "    ret, frame = cap.read()\n",
    "    if ret == True:\n",
    "        frame, pose, dt, size = estimator_video(frame, \"now\", True)\n",
    "        # print(type(pose))\n",
    "        output = frame#cv2.cvtColor(frame, cv2.COLOR_BGR2RGB)\n",
    "        # print(pose.shape==())\n",
    "        if pose.shape!=():\n",
    "            output = display_pose(output, pose[:-1,[3]])\n",
    "        \n",
    "        out.write(output)\n",
    "  # Break the loop\n",
    "    else: \n",
    "        break\n",
    "\n",
    "cap.release()\n",
    "out.release()"
   ]
  },
  {
   "cell_type": "code",
   "execution_count": null,
   "id": "ced1482d-2891-40be-aa1f-8ce6239934f0",
   "metadata": {},
   "outputs": [],
   "source": [
    "frame"
   ]
  },
  {
   "cell_type": "code",
   "execution_count": null,
   "id": "38071a9c-bb12-4394-ab66-b65ccd9b5087",
   "metadata": {},
   "outputs": [],
   "source": []
  }
 ],
 "metadata": {
  "kernelspec": {
   "display_name": "Python 3 (ipykernel)",
   "language": "python",
   "name": "python3"
  },
  "language_info": {
   "codemirror_mode": {
    "name": "ipython",
    "version": 3
   },
   "file_extension": ".py",
   "mimetype": "text/x-python",
   "name": "python",
   "nbconvert_exporter": "python",
   "pygments_lexer": "ipython3",
   "version": "3.10.13"
  }
 },
 "nbformat": 4,
 "nbformat_minor": 5
}
