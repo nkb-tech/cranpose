{
 "cells": [
  {
   "cell_type": "code",
   "execution_count": null,
   "id": "ee1233f3-7dd9-4bd3-8076-540f81bdd83d",
   "metadata": {},
   "outputs": [],
   "source": [
    "import os, sys"
   ]
  },
  {
   "cell_type": "code",
   "execution_count": null,
   "id": "e68a3c34-49d3-4f82-805d-4ba670355634",
   "metadata": {},
   "outputs": [],
   "source": [
    "base_dir = os.path.split(os.getcwd())[0]\n",
    "os.chdir(os.path.join(base_dir))"
   ]
  },
  {
   "cell_type": "code",
   "execution_count": null,
   "id": "907fb50b-806e-4131-ab60-ff687d14cfdb",
   "metadata": {},
   "outputs": [],
   "source": [
    "import pickle as pk\n",
    "\n",
    "import numpy as np\n",
    "import cv2\n",
    "import sys\n",
    "import argparse\n",
    "import time\n",
    "import copy\n",
    "import datetime\n",
    "import yaml\n",
    "\n",
    "import matplotlib.pyplot as plt\n",
    "\n",
    "from cranpose.utils import ARUCO_DICT, display_pose\n",
    "from cranpose.estimators import PoseSingle"
   ]
  },
  {
   "cell_type": "code",
   "execution_count": null,
   "id": "044a5013-806e-46ba-a8f9-8db935231e20",
   "metadata": {},
   "outputs": [],
   "source": [
    "k_matrix = \"calib/calibration_matrix_hikvision.npy\"\n",
    "d_coeff = \"calib/distortion_coefficients_hikvision.npy\"\n",
    "config_filename = \"jupyters/marker_poses_warehouse.yaml\"\n",
    "\n",
    "edge_len = 0.7\n",
    "marker_step = 10\n",
    "n_markers = 100\n",
    "\n",
    "type_ = \"DICT_5X5_100\"\n",
    "\n",
    "if ARUCO_DICT.get(type_, None) is None:\n",
    "    print(f\"ArUCo tag type '{type_}' is not supported\")\n",
    "    sys.exit(0)\n",
    "\n",
    "aruco_dict_type = ARUCO_DICT[type_]\n",
    "calibration_matrix_path = k_matrix\n",
    "distortion_coefficients_path = d_coeff\n",
    "\n",
    "k = np.load(k_matrix)\n",
    "d = np.load(d_coeff)\n",
    "\n",
    "\n",
    "with open(config_filename, encoding='utf8') as f:\n",
    "    marker_poses = yaml.load(f, Loader=yaml.FullLoader)\n",
    "\n",
    "\n",
    "# with open(config_filename, encoding='utf8') as f:\n",
    "#     marker_poses = yaml.load(f, Loader=yaml.FullLoader)\n",
    "\n",
    "# Изменим калибровки так как разрешение потока отличается от разрешения калибровочного видео\n",
    "k_video = copy.deepcopy(k)\n",
    "k_video[0,0] = k_video[0,0] * 1280/2688\n",
    "k_video[1,1] = k_video[1,1] * 720/1520\n",
    "\n",
    "k_video[0,2] = k_video[0,2] * 1280/2688\n",
    "k_video[1,2] = k_video[1,2] * 720/1520"
   ]
  },
  {
   "cell_type": "code",
   "execution_count": null,
   "id": "1ee8c3a1-17b2-4cab-ae67-09837ff7dc79",
   "metadata": {
    "editable": true,
    "scrolled": true,
    "slideshow": {
     "slide_type": ""
    },
    "tags": []
   },
   "outputs": [],
   "source": [
    "k_video"
   ]
  },
  {
   "cell_type": "code",
   "execution_count": null,
   "metadata": {},
   "outputs": [],
   "source": [
    "estimator_front = PoseSingle(\n",
    "    aruco_dict_type,\n",
    "    -1,\n",
    "    n_markers,\n",
    "    marker_poses,\n",
    "    edge_len,\n",
    "    k_video,\n",
    "    d,\n",
    "    apply_kf = True,\n",
    "    transition_coef = 50,\n",
    "    observation_coef = 0.02,\n",
    "    x_bias = 1.25,\n",
    "    # left_edge_weight_func  = f_left_x_04,\n",
    ")"
   ]
  },
  {
   "cell_type": "code",
   "execution_count": null,
   "metadata": {},
   "outputs": [],
   "source": [
    "# Test image preprocessing\n",
    "image = \"D:\\\\NKB\\\\cranepos_data\\\\frames4\\\\1000.png\"\n",
    "\n",
    "image = cv2.imread(image)\n",
    "time.sleep(.1)\n",
    "\n",
    "# sharpen with a kernel\n",
    "# kernel = np.array([[-1,-1,-1], [-1,9,-1], [-1,-1,-1]])\n",
    "# image = cv2.filter2D(image, -1, kernel)\n",
    "\n",
    "# sharpen with gaussian blur\n",
    "# image_blurred = cv2.GaussianBlur(image,(15,15), cv2.BORDER_DEFAULT)\n",
    "# image = cv2.addWeighted(image, 2.0, image_blurred, -1.0, 0)\n",
    "\n",
    "# play with contrast-brightness\n",
    "# contrast=0.5\n",
    "# brightness = 50\n",
    "# image = cv2.addWeighted(image, contrast, image, 0, brightness)\n",
    "\n",
    "# gamma transformation\n",
    "# gamma = 1.95\n",
    "# image = np.array(255*(image / 255) ** gamma, dtype = 'uint8')\n",
    "\n",
    "# crop and resize\n",
    "# image = image[350:434, 500:650]\n",
    "\n",
    "\n",
    "output = cv2.cvtColor(image, cv2.COLOR_BGR2RGB)\n",
    "plt.figure(figsize = (20,20))\n",
    "\n",
    "plt.imshow(output)\n",
    "plt.show()"
   ]
  },
  {
   "cell_type": "code",
   "execution_count": null,
   "metadata": {},
   "outputs": [],
   "source": [
    "# Test image preprocessing\n",
    "image = \"D:\\\\NKB\\\\cranepos_data\\\\frames4\\\\1000.png\"\n",
    "\n",
    "image = cv2.imread(image)\n",
    "time.sleep(.1)\n",
    "\n",
    "# sharpen with a kernel\n",
    "# kernel = np.array([[-1,-1,-1], [-1,9,-1], [-1,-1,-1]])\n",
    "# image = cv2.filter2D(image, -1, kernel)\n",
    "\n",
    "# sharpen with gaussian blur\n",
    "# image_blurred = cv2.GaussianBlur(image,(15,15), cv2.BORDER_DEFAULT)\n",
    "# image = cv2.addWeighted(image, 2.0, image_blurred, -1.0, 0)\n",
    "\n",
    "# play with contrast-brightness\n",
    "# contrast=0.5\n",
    "# brightness = 50\n",
    "# image = cv2.addWeighted(image, contrast, image, 0, brightness)\n",
    "\n",
    "# gamma transformation\n",
    "# gamma = 1.95\n",
    "# image = np.array(255*(image / 255) ** gamma, dtype = 'uint8')\n",
    "\n",
    "# crop and resize\n",
    "image = image[350:434, 500:650]\n",
    "\n",
    "\n",
    "output = cv2.cvtColor(image, cv2.COLOR_BGR2RGB)\n",
    "plt.figure(figsize = (20,20))\n",
    "\n",
    "plt.imshow(output)\n",
    "plt.show()"
   ]
  },
  {
   "cell_type": "code",
   "execution_count": null,
   "metadata": {},
   "outputs": [],
   "source": [
    "# # super resolution\n",
    "# sr = cv2.dnn_superres.DnnSuperResImpl_create()\n",
    " \n",
    "# path = \"EDSR_x4.pb\"\n",
    "\n",
    "# sr.readModel(path)\n",
    " \n",
    "# sr.setModel(\"edsr\",4)\n",
    "# result = sr.upsample(image)\n"
   ]
  },
  {
   "cell_type": "code",
   "execution_count": null,
   "metadata": {},
   "outputs": [],
   "source": [
    "sr = cv2.dnn_superres.DnnSuperResImpl_create()\n",
    " \n",
    "path = \"random/FSRCNN_x3.pb\"\n",
    "\n",
    "sr.readModel(path)\n",
    " \n",
    "sr.setModel(\"fsrcnn\",3)\n",
    "result = sr.upsample(image)"
   ]
  },
  {
   "cell_type": "code",
   "execution_count": null,
   "metadata": {},
   "outputs": [],
   "source": [
    "# sr = cv2.dnn_superres.DnnSuperResImpl_create()\n",
    " \n",
    "# path = \"ESPCN_x3.pb\"\n",
    " \n",
    "# sr.readModel(path)\n",
    " \n",
    "# sr.setModel(\"espcn\",3)\n",
    " \n",
    "# result = sr.upsample(image)"
   ]
  },
  {
   "cell_type": "code",
   "execution_count": null,
   "metadata": {},
   "outputs": [],
   "source": [
    "# sharpen with a kernel\n",
    "# kernel = np.array([[-1,-1,-1], [-1,9,-1], [-1,-1,-1]])\n",
    "# result = cv2.filter2D(result, -1, kernel)\n",
    "\n",
    "# sharpen with gaussian blur\n",
    "# image_blurred = cv2.GaussianBlur(result,(15,15), cv2.BORDER_DEFAULT)\n",
    "# result = cv2.addWeighted(result, 3.0, image_blurred, -2.0, 0)\n",
    "\n",
    "# gamma transformation\n",
    "gamma = 1.95\n",
    "result = np.array(255*(result / 255) ** gamma, dtype = 'uint8')\n",
    "\n",
    "# play with contrast-brightness\n",
    "contrast=1.5\n",
    "brightness = 0\n",
    "result = cv2.addWeighted(result, contrast, result, 0, brightness)"
   ]
  },
  {
   "cell_type": "code",
   "execution_count": null,
   "metadata": {},
   "outputs": [],
   "source": [
    "output = cv2.cvtColor(result, cv2.COLOR_BGR2RGB)\n",
    "plt.figure(figsize = (20,20))\n",
    "\n",
    "plt.imshow(output)\n",
    "plt.show()"
   ]
  },
  {
   "cell_type": "code",
   "execution_count": null,
   "metadata": {},
   "outputs": [],
   "source": [
    "image = result"
   ]
  },
  {
   "cell_type": "code",
   "execution_count": null,
   "id": "040b94b5-e38e-4658-9880-175d415d91fd",
   "metadata": {},
   "outputs": [],
   "source": [
    "\n",
    "frame, pose, size = estimator_front(image, True)\n",
    "\n",
    "output = cv2.cvtColor(frame, cv2.COLOR_BGR2RGB)\n",
    "\n",
    "output = display_pose(output, pose[:-1,[3]])\n",
    "\n",
    "plt.imshow(output)\n",
    "plt.show()\n",
    "print(pose)"
   ]
  },
  {
   "cell_type": "code",
   "execution_count": null,
   "metadata": {},
   "outputs": [],
   "source": [
    "estimator = PoseSingle(\n",
    "    aruco_dict_type,\n",
    "    1,\n",
    "    n_markers,\n",
    "    marker_poses,\n",
    "    edge_len,\n",
    "    k_video,\n",
    "    d,\n",
    "    apply_kf = False,\n",
    "    transition_coef = 50,\n",
    "    observation_coef = 0.02,\n",
    "    x_bias = 1.25,\n",
    "    # left_edge_weight_func  = f_left_x_04,\n",
    ")"
   ]
  },
  {
   "cell_type": "code",
   "execution_count": null,
   "metadata": {},
   "outputs": [],
   "source": [
    "# Test image preprocessing\n",
    "image = \"D:\\\\NKB\\\\cranepos_data\\\\frames5\\\\2700.png\"\n",
    "\n",
    "image = cv2.imread(image)\n",
    "time.sleep(.1)\n",
    "\n",
    "# sharpen with a kernel\n",
    "kernel = np.array([[-1,-1,-1], [-1,9,-1], [-1,-1,-1]])\n",
    "image = cv2.filter2D(image, -1, kernel)\n",
    "\n",
    "# sharpen with gaussian blur\n",
    "# image_blurred = cv2.GaussianBlur(image,(15,15), cv2.BORDER_DEFAULT)\n",
    "# image = cv2.addWeighted(image, 2.0, image_blurred, -1.0, 0)\n",
    "\n",
    "# play with contrast-brightness\n",
    "contrast=1.5\n",
    "brightness = -50\n",
    "image = cv2.addWeighted(image, contrast, image, 0, brightness)\n",
    "\n",
    "# gamma transformation\n",
    "# gamma = 1.95\n",
    "# image = np.array(255*(image / 255) ** gamma, dtype = 'uint8')\n",
    "\n",
    "# crop and resize\n",
    "# image = image[350:434, 500:650]\n",
    "\n",
    "# apply super-resolution\n",
    "# image = sr.upsample(image)\n",
    "\n",
    "# OR(!) reesize image\n",
    "image = cv2.resize(image,dsize=None,fx=3,fy=3)\n",
    "\n",
    "# apply median blur\n",
    "# image = cv2.medianBlur(image, 15)\n",
    "\n",
    "output = cv2.cvtColor(image, cv2.COLOR_BGR2RGB)\n",
    "plt.figure(figsize = (20,20))\n",
    "\n",
    "plt.imshow(output)\n",
    "plt.show()"
   ]
  },
  {
   "cell_type": "code",
   "execution_count": null,
   "metadata": {},
   "outputs": [],
   "source": [
    "\n",
    "frame, pose, size = estimator(image, True)\n",
    "\n",
    "output = cv2.cvtColor(frame, cv2.COLOR_BGR2RGB)\n",
    "\n",
    "output = display_pose(output, pose[:-1,[3]])\n",
    "\n",
    "plt.figure(figsize = (20,20))\n",
    "\n",
    "plt.imshow(output)\n",
    "plt.show()\n",
    "print(pose)"
   ]
  },
  {
   "cell_type": "code",
   "execution_count": null,
   "metadata": {},
   "outputs": [],
   "source": []
  }
 ],
 "metadata": {
  "kernelspec": {
   "display_name": "Python 3 (ipykernel)",
   "language": "python",
   "name": "python3"
  },
  "language_info": {
   "codemirror_mode": {
    "name": "ipython",
    "version": 3
   },
   "file_extension": ".py",
   "mimetype": "text/x-python",
   "name": "python",
   "nbconvert_exporter": "python",
   "pygments_lexer": "ipython3",
   "version": "3.10.13"
  }
 },
 "nbformat": 4,
 "nbformat_minor": 5
}
