{
 "cells": [
  {
   "cell_type": "code",
   "execution_count": 1,
   "id": "c9378118-11be-4e49-b31c-375c1df36f24",
   "metadata": {},
   "outputs": [],
   "source": [
    "# Calculates camera matrix from camera spec"
   ]
  },
  {
   "cell_type": "code",
   "execution_count": 1,
   "id": "6605b0a7-57f2-483b-b54d-e89056946759",
   "metadata": {},
   "outputs": [],
   "source": [
    "import os, sys\n",
    "base_dir = os.path.split(os.getcwd())[0]\n",
    "os.chdir(os.path.join(base_dir,'core'))"
   ]
  },
  {
   "cell_type": "code",
   "execution_count": 2,
   "id": "e23d9063-2f0d-4616-9c30-238971dcfe2a",
   "metadata": {},
   "outputs": [],
   "source": [
    "import numpy as np"
   ]
  },
  {
   "cell_type": "code",
   "execution_count": 3,
   "id": "b44b7551-ee3b-4b3e-bad4-4fabeabe3dd0",
   "metadata": {},
   "outputs": [],
   "source": [
    "x = 1920 # res x\n",
    "y = 1080 # res y\n",
    "a_x = 84 # FOV x\n",
    "a_y = 45 # FOV y"
   ]
  },
  {
   "cell_type": "code",
   "execution_count": 4,
   "id": "7c5c5f58-bd3d-45e9-ac18-153b2845b3af",
   "metadata": {},
   "outputs": [],
   "source": [
    "f_x = x / np.tan(np.deg2rad(a_x) / 2) / 2\n",
    "f_y = y / np.tan(np.deg2rad(a_y) / 2) / 2"
   ]
  },
  {
   "cell_type": "code",
   "execution_count": 5,
   "id": "eaf8398d-d1d5-45a8-8c94-14ab6cda6729",
   "metadata": {},
   "outputs": [],
   "source": [
    "mtx = np.array(\n",
    "    [\n",
    "        [f_x, 0, x/2],\n",
    "        [0, f_y, y/2],\n",
    "        [0, 0, 1]\n",
    "    ]\n",
    ")"
   ]
  },
  {
   "cell_type": "code",
   "execution_count": 7,
   "id": "afa731ab-624f-4e14-84a1-354f9bf33910",
   "metadata": {},
   "outputs": [],
   "source": [
    "np.save('../calib/TEST.npy', mtx)"
   ]
  },
  {
   "cell_type": "code",
   "execution_count": 8,
   "id": "ceebfa8b-ff0d-475e-a2f6-d8a9fabe32d1",
   "metadata": {},
   "outputs": [],
   "source": [
    "np.save('../calib/TEST2.npy', np.array([[0,0,0,0,0]], dtype=float))"
   ]
  },
  {
   "cell_type": "code",
   "execution_count": null,
   "id": "4f20818c-9c9d-427a-b251-591e0f927d6a",
   "metadata": {},
   "outputs": [],
   "source": []
  }
 ],
 "metadata": {
  "kernelspec": {
   "display_name": "Python 3 (ipykernel)",
   "language": "python",
   "name": "python3"
  },
  "language_info": {
   "codemirror_mode": {
    "name": "ipython",
    "version": 3
   },
   "file_extension": ".py",
   "mimetype": "text/x-python",
   "name": "python",
   "nbconvert_exporter": "python",
   "pygments_lexer": "ipython3",
   "version": "3.10.13"
  }
 },
 "nbformat": 4,
 "nbformat_minor": 5
}
