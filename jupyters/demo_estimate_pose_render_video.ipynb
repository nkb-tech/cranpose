{
 "cells": [
  {
   "cell_type": "code",
   "execution_count": null,
   "id": "b8b50069-4faa-4906-b422-ac6b7f2a6b82",
   "metadata": {},
   "outputs": [],
   "source": [
    "# Демонстрация функционала эстимейторов на видео"
   ]
  },
  {
   "cell_type": "code",
   "execution_count": null,
   "id": "ee1233f3-7dd9-4bd3-8076-540f81bdd83d",
   "metadata": {},
   "outputs": [],
   "source": [
    "import os, sys"
   ]
  },
  {
   "cell_type": "code",
   "execution_count": null,
   "id": "e68a3c34-49d3-4f82-805d-4ba670355634",
   "metadata": {},
   "outputs": [],
   "source": [
    "base_dir = os.path.split(os.getcwd())[0]\n",
    "os.chdir(os.path.join(base_dir))\n",
    "sys.path.append(\"core\")"
   ]
  },
  {
   "cell_type": "code",
   "execution_count": null,
   "id": "907fb50b-806e-4131-ab60-ff687d14cfdb",
   "metadata": {},
   "outputs": [],
   "source": [
    "import pickle as pk\n",
    "\n",
    "import numpy as np\n",
    "import cv2\n",
    "import sys\n",
    "import argparse\n",
    "import time\n",
    "import copy\n",
    "import datetime\n",
    "import yaml\n",
    "\n",
    "import matplotlib.pyplot as plt\n",
    "\n",
    "from core.utils import ARUCO_DICT, display_pose, f_left_x_04, f_right_x_04\n",
    "from core.estimators import PoseSingle"
   ]
  },
  {
   "cell_type": "code",
   "execution_count": null,
   "id": "044a5013-806e-46ba-a8f9-8db935231e20",
   "metadata": {},
   "outputs": [],
   "source": [
    "from scipy.spatial.transform import Rotation as R"
   ]
  },
  {
   "cell_type": "code",
   "execution_count": null,
   "id": "1ee8c3a1-17b2-4cab-ae67-09837ff7dc79",
   "metadata": {
    "editable": true,
    "scrolled": true,
    "slideshow": {
     "slide_type": ""
    },
    "tags": []
   },
   "outputs": [],
   "source": [
    "k_matrix = \"calib/calibration_matrix_render_calib.npy\"\n",
    "d_coeff = \"calib/distortion_coefficients_render_calib.npy\"\n",
    "config_filename = \"jupyters/marker_poses.yaml\"\n",
    "\n",
    "edge_len = 0.7\n",
    "marker_step = 10\n",
    "n_markers = 100\n",
    "\n",
    "type_ = \"DICT_7X7_100\"\n",
    "\n",
    "if ARUCO_DICT.get(type_, None) is None:\n",
    "    print(f\"ArUCo tag type '{type_}' is not supported\")\n",
    "    sys.exit(0)\n",
    "\n",
    "aruco_dict_type = ARUCO_DICT[type_]\n",
    "calibration_matrix_path = k_matrix\n",
    "distortion_coefficients_path = d_coeff\n",
    "\n",
    "k = np.load(k_matrix)\n",
    "d = np.load(d_coeff)\n",
    "\n",
    "\n",
    "with open(config_filename, encoding='utf8') as f:\n",
    "    cfg = yaml.load(f, Loader=yaml.FullLoader)\n",
    "\n",
    "marker_poses = dict(\n",
    "    zip([id for id in range(len(cfg['poses']))], \n",
    "        cfg['poses']))"
   ]
  },
  {
   "cell_type": "code",
   "execution_count": null,
   "id": "a8d7b53d-fbe7-4b46-8212-b9014ee83458",
   "metadata": {
    "scrolled": true
   },
   "outputs": [],
   "source": [
    "# Загрузка истинных данных\n",
    "with open('data/render_distance_long/report2.txt', 'r') as f:\n",
    "    lines = f.readlines()\n",
    "\n",
    "x_poses_front_gt = np.array([float(line.strip().replace(',','.')) for line in lines[::2]])"
   ]
  },
  {
   "cell_type": "code",
   "execution_count": null,
   "id": "9f6cf4e2-4c0a-475a-a00b-8927678d7452",
   "metadata": {
    "scrolled": true
   },
   "outputs": [],
   "source": [
    "with open('data/render_distance_long/report1.txt', 'r') as f:\n",
    "    lines = f.readlines()\n",
    "\n",
    "x_poses_rear_gt = np.array([float(line.strip().replace(',','.')) for line in lines[::2]])"
   ]
  },
  {
   "cell_type": "code",
   "execution_count": null,
   "id": "76bc25cd-76f2-4e95-be3a-d24f7f35b491",
   "metadata": {},
   "outputs": [],
   "source": [
    "cap = cv2.VideoCapture('data/render_distance_long/front.mp4')\n",
    "\n",
    "width  = int(cap.get(cv2.CAP_PROP_FRAME_WIDTH))\n",
    "height = int(cap.get(cv2.CAP_PROP_FRAME_HEIGHT))\n",
    "fps = int(cap.get(cv2.CAP_PROP_FRAME_COUNT)/10)\n",
    "length = int(cap.get(cv2.CAP_PROP_FRAME_COUNT))\n",
    "\n",
    "out = cv2.VideoWriter('data/results/demo_front.mov', cv2.VideoWriter_fourcc('M','J','P','G'), 30, (width, height))\n",
    "\n",
    "estimator_video_front = PoseSingle(\n",
    "    aruco_dict_type,\n",
    "    1,\n",
    "    n_markers,\n",
    "    marker_poses,\n",
    "    edge_len,\n",
    "    k,\n",
    "    d,\n",
    "    apply_kf = True,\n",
    "    transition_coef = 50,\n",
    "    observation_coef = 0.02,\n",
    "    x_bias = 1.25,\n",
    "    left_edge_weight_func  = f_left_x_04,\n",
    ")\n",
    "\n",
    "if (cap.isOpened()== False): \n",
    "  print(\"Error opening video stream or file\")\n",
    "\n",
    "x_poses_front = []\n",
    "\n",
    "while(cap.isOpened()):\n",
    "    ret, frame = cap.read()\n",
    "    if ret == True:\n",
    "        frame, pose, size = estimator_video_front(frame, True)\n",
    "        output = frame\n",
    "        if pose.shape!=():\n",
    "            output = display_pose(output, pose[:-1,[3]])\n",
    "            x_poses_front.append(pose[0][3])\n",
    "        else:\n",
    "            x_poses_front.append(-1)\n",
    "            \n",
    "        out.write(output)\n",
    "    else: \n",
    "        break\n",
    "\n",
    "cap.release()\n",
    "out.release()"
   ]
  },
  {
   "cell_type": "code",
   "execution_count": null,
   "id": "17adb5e5-4213-49ac-96f9-1c217815cdf7",
   "metadata": {},
   "outputs": [],
   "source": [
    "# График предсказаний\n",
    "\n",
    "# На видео кран начинает двигаться не сразу. А в файле изменение координаты происходит с самого начала.\n",
    "# Поэтому вручную подбираем момент начала движения на видео (от него прямо зависит сдвиг предсказаний)\n",
    "\n",
    "begin_move = 80\n",
    "x_poses_front = np.array(x_poses_front)\n",
    "plt.figure()\n",
    "plt.plot(np.arange(0,len(x_poses_front[begin_move:])), x_poses_front[begin_move:])\n",
    "plt.plot(np.arange(0,len(x_poses_front_gt)), x_poses_front_gt)\n",
    "# plt.xlim(xmin=164, xmax=225)\n",
    "# plt.ylim(ymin=25, ymax=40)\n",
    "plt.show()"
   ]
  },
  {
   "cell_type": "code",
   "execution_count": null,
   "id": "463cefd1-d25a-44f2-b20b-6ca5c4b9c2b9",
   "metadata": {},
   "outputs": [],
   "source": [
    "begin_move = 80\n",
    "end_move = 680\n",
    "x_poses_front = np.array(x_poses_front)\n",
    "plt.figure()\n",
    "resid = x_poses_front_gt[:end_move] - x_poses_front[begin_move:end_move+begin_move]\n",
    "plt.plot(np.arange(0,len(resid)), resid)\n",
    "plt.grid(True)\n",
    "plt.show()"
   ]
  },
  {
   "cell_type": "code",
   "execution_count": null,
   "id": "f4629f4d-a505-4bec-88a6-99121cba7202",
   "metadata": {},
   "outputs": [],
   "source": [
    "cap = cv2.VideoCapture('data/render_distance_long/rear.mp4')\n",
    "\n",
    "width  = int(cap.get(cv2.CAP_PROP_FRAME_WIDTH))\n",
    "height = int(cap.get(cv2.CAP_PROP_FRAME_HEIGHT))\n",
    "fps = int(cap.get(cv2.CAP_PROP_FRAME_COUNT)/10)\n",
    "length = int(cap.get(cv2.CAP_PROP_FRAME_COUNT))\n",
    "\n",
    "out = cv2.VideoWriter('data/results/demo_rear.mov', cv2.VideoWriter_fourcc('M','J','P','G'), 30, (width, height))\n",
    "\n",
    "estimator_video_rear = PoseSingle(\n",
    "    aruco_dict_type,\n",
    "    -1,\n",
    "    n_markers,\n",
    "    marker_poses,\n",
    "    edge_len,\n",
    "    k,\n",
    "    d,\n",
    "    apply_kf = True,\n",
    "    transition_coef = 50,\n",
    "    observation_coef = 0.02,\n",
    "    x_bias = -1.5,\n",
    "    right_edge_weight_func  = lambda x: np.tanh(10*(1-x-0.35)).clip(min=0),\n",
    ")\n",
    "\n",
    "if (cap.isOpened()== False): \n",
    "  print(\"Error opening video stream or file\")\n",
    "\n",
    "x_poses_rear = []\n",
    "\n",
    "while(cap.isOpened()):\n",
    "    ret, frame = cap.read()\n",
    "    if ret == True:\n",
    "        frame, pose, size = estimator_video_rear(frame, True)\n",
    "        output = frame\n",
    "        if pose.shape!=():\n",
    "            output = display_pose(output, pose[:-1,[3]])\n",
    "            x_poses_rear.append(pose[0][3])\n",
    "        else:\n",
    "            x_poses_rear.append(-1)\n",
    "            \n",
    "        out.write(output)\n",
    "    else: \n",
    "        break\n",
    "\n",
    "cap.release()\n",
    "out.release()"
   ]
  },
  {
   "cell_type": "code",
   "execution_count": null,
   "id": "92aee9fe-0a6d-4b84-af5c-433cdcbc12d2",
   "metadata": {},
   "outputs": [],
   "source": [
    "begin_move = 90\n",
    "x_poses_rear = np.array(x_poses_rear)\n",
    "plt.plot(np.arange(0,len(x_poses_rear[begin_move:])), x_poses_rear[begin_move:])\n",
    "plt.plot(np.arange(0,len(x_poses_rear_gt)), x_poses_rear_gt)\n",
    "\n",
    "plt.show()"
   ]
  },
  {
   "cell_type": "code",
   "execution_count": null,
   "id": "9b7e59b2-2ed0-4157-a72b-bec06de2c448",
   "metadata": {},
   "outputs": [],
   "source": [
    "begin_move = 90\n",
    "end_move = 610\n",
    "x_poses_rear = np.array(x_poses_rear)\n",
    "plt.figure()\n",
    "resid = x_poses_rear_gt[:end_move] - x_poses_rear[begin_move:end_move+begin_move]\n",
    "plt.plot(np.arange(0,len(resid)), resid)\n",
    "plt.grid(True)\n",
    "plt.ylim(ymin=-1, ymax=1)\n",
    "plt.show()"
   ]
  },
  {
   "cell_type": "code",
   "execution_count": null,
   "id": "03135a9c-ab03-4026-a166-69f90af4e2c0",
   "metadata": {},
   "outputs": [],
   "source": [
    "# Среднее\n",
    "begin_move_front = 80\n",
    "begin_move_rear = 90\n",
    "mean_x = np.mean([np.array(x_poses_rear[begin_move_rear:600+begin_move_rear]), np.array(x_poses_front[begin_move_front:600+begin_move_front])], axis=0)"
   ]
  },
  {
   "cell_type": "code",
   "execution_count": null,
   "id": "ade204cf-acde-4ab8-9b72-4eeef724dad0",
   "metadata": {},
   "outputs": [],
   "source": [
    "plt.plot(np.arange(0,len(mean_x)), mean_x)\n",
    "plt.plot(np.arange(0,len(x_poses_front_gt)), x_poses_front_gt)\n",
    "plt.xlim(xmin=164, xmax=225)\n",
    "plt.ylim(ymin=25, ymax=40)\n",
    "plt.show()"
   ]
  },
  {
   "cell_type": "code",
   "execution_count": null,
   "id": "3f8a8bc6-6920-4dad-a387-0feb090cd78e",
   "metadata": {},
   "outputs": [],
   "source": [
    "plt.figure()\n",
    "resid = x_poses_front_gt[:600] - mean_x[:600]\n",
    "plt.plot(np.arange(0,len(resid)), resid)\n",
    "plt.grid(True)\n",
    "plt.show()"
   ]
  },
  {
   "cell_type": "code",
   "execution_count": null,
   "id": "56afa5ac-1764-43ee-adb9-be4016a71892",
   "metadata": {},
   "outputs": [],
   "source": [
    "# Тест с обновленными краевыми функциями БЕЗ фильтра калмана"
   ]
  },
  {
   "cell_type": "code",
   "execution_count": null,
   "id": "8c3b6166-0633-4a86-8b8c-0451a9ad2212",
   "metadata": {},
   "outputs": [],
   "source": [
    "cap = cv2.VideoCapture('data/render_distance_long/front.mp4')\n",
    "\n",
    "width  = int(cap.get(cv2.CAP_PROP_FRAME_WIDTH))\n",
    "height = int(cap.get(cv2.CAP_PROP_FRAME_HEIGHT))\n",
    "fps = int(cap.get(cv2.CAP_PROP_FRAME_COUNT)/10)\n",
    "length = int(cap.get(cv2.CAP_PROP_FRAME_COUNT))\n",
    "\n",
    "out = cv2.VideoWriter('data/results/demo_front_nokf.mov', cv2.VideoWriter_fourcc('M','J','P','G'), 30, (width,height))\n",
    "\n",
    "estimator_video_front = PoseSingle(\n",
    "    aruco_dict_type,\n",
    "    1,\n",
    "    n_markers,\n",
    "    marker_poses,\n",
    "    edge_len,\n",
    "    k,\n",
    "    d,\n",
    "    apply_kf = False,\n",
    "    transition_coef = 50,\n",
    "    observation_coef = 0.02,\n",
    "    x_bias = 1.25,\n",
    "    left_edge_weight_func  = f_left_x_04,\n",
    ")\n",
    "\n",
    "if (cap.isOpened()== False): \n",
    "  print(\"Error opening video stream or file\")\n",
    "\n",
    "x_poses_front = []\n",
    "\n",
    "while(cap.isOpened()):\n",
    "    ret, frame = cap.read()\n",
    "    if ret == True:\n",
    "        frame, pose, size = estimator_video_front(frame, True)\n",
    "        output = frame\n",
    "        if pose.shape!=():\n",
    "            output = display_pose(output, pose[:-1,[3]])\n",
    "            x_poses_front.append(pose[0][3])\n",
    "        else:\n",
    "            x_poses_front.append(-1)\n",
    "            \n",
    "        out.write(output)\n",
    "    else: \n",
    "        break\n",
    "\n",
    "cap.release()\n",
    "out.release()"
   ]
  },
  {
   "cell_type": "code",
   "execution_count": null,
   "id": "ef1f7553-6566-4e9e-9865-efb47bf44582",
   "metadata": {},
   "outputs": [],
   "source": [
    "begin_move = 80\n",
    "x_poses_front = np.array(x_poses_front)\n",
    "plt.figure()\n",
    "plt.plot(np.arange(0,len(x_poses_front[begin_move:])), x_poses_front[begin_move:])\n",
    "plt.plot(np.arange(0,len(x_poses_front_gt)), x_poses_front_gt)\n",
    "plt.show()"
   ]
  },
  {
   "cell_type": "code",
   "execution_count": null,
   "id": "7bbeb4de-ce9d-4b06-b4b5-640541e3c64c",
   "metadata": {},
   "outputs": [],
   "source": [
    "begin_move = 80\n",
    "end_move = 680\n",
    "x_poses_front = np.array(x_poses_front)\n",
    "plt.figure()\n",
    "resid = x_poses_front_gt[:end_move] - x_poses_front[begin_move:end_move+begin_move]\n",
    "plt.plot(np.arange(0,len(resid)), resid)\n",
    "plt.grid(True)\n",
    "plt.ylim(ymin=-1, ymax=1)\n",
    "plt.show()"
   ]
  },
  {
   "cell_type": "code",
   "execution_count": null,
   "id": "3f8bf827-4379-4d94-9bb8-59e0706afa72",
   "metadata": {},
   "outputs": [],
   "source": [
    "cap = cv2.VideoCapture('data/render_distance_long/rear.mp4')\n",
    "\n",
    "width  = int(cap.get(cv2.CAP_PROP_FRAME_WIDTH))\n",
    "height = int(cap.get(cv2.CAP_PROP_FRAME_HEIGHT))\n",
    "fps = int(cap.get(cv2.CAP_PROP_FRAME_COUNT)/10)\n",
    "length = int(cap.get(cv2.CAP_PROP_FRAME_COUNT))\n",
    "\n",
    "out = cv2.VideoWriter('data/results/demo_rear_nokf.mov', cv2.VideoWriter_fourcc('M','J','P','G'), 30, (width,height))\n",
    "\n",
    "estimator_video_rear = PoseSingle(\n",
    "    aruco_dict_type,\n",
    "    -1,\n",
    "    n_markers,\n",
    "    marker_poses,\n",
    "    edge_len,\n",
    "    k,\n",
    "    d,\n",
    "    apply_kf = False,\n",
    "    transition_coef = 50,\n",
    "    observation_coef = 0.02,\n",
    "    x_bias = -1.5,\n",
    "    right_edge_weight_func  = lambda x: np.tanh(10*(1-x-0.35)).clip(min=0),\n",
    ")\n",
    "\n",
    "if (cap.isOpened()== False): \n",
    "  print(\"Error opening video stream or file\")\n",
    "\n",
    "x_poses_rear = []\n",
    "\n",
    "while(cap.isOpened()):\n",
    "    ret, frame = cap.read()\n",
    "    if ret == True:\n",
    "        frame, pose, size = estimator_video_rear(frame, True)\n",
    "        output = frame\n",
    "        if pose.shape!=():\n",
    "            output = display_pose(output, pose[:-1,[3]])\n",
    "            x_poses_rear.append(pose[0][3])\n",
    "        else:\n",
    "            x_poses_rear.append(-1)\n",
    "            \n",
    "        out.write(output)\n",
    "    else: \n",
    "        break\n",
    "\n",
    "cap.release()\n",
    "out.release()"
   ]
  },
  {
   "cell_type": "code",
   "execution_count": null,
   "id": "38f4c4d3-0814-4345-b03b-a1c110330973",
   "metadata": {},
   "outputs": [],
   "source": [
    "begin_move = 90\n",
    "x_poses_rear = np.array(x_poses_rear)\n",
    "plt.plot(np.arange(0,len(x_poses_rear[begin_move:])), x_poses_rear[begin_move:])\n",
    "plt.plot(np.arange(0,len(x_poses_rear_gt)), x_poses_rear_gt)\n",
    "\n",
    "plt.show()"
   ]
  },
  {
   "cell_type": "code",
   "execution_count": null,
   "id": "f09e6c7b-ec0a-49a5-876d-8104730269de",
   "metadata": {},
   "outputs": [],
   "source": [
    "begin_move = 90\n",
    "end_move = 610\n",
    "x_poses_rear = np.array(x_poses_rear)\n",
    "plt.figure()\n",
    "resid = x_poses_rear_gt[:end_move] - x_poses_rear[begin_move:end_move+begin_move]\n",
    "plt.plot(np.arange(0,len(resid)), resid)\n",
    "plt.grid(True)\n",
    "plt.ylim(ymin=-1, ymax=1)\n",
    "plt.show()"
   ]
  },
  {
   "cell_type": "code",
   "execution_count": null,
   "id": "e4721cbe-4edc-4e13-a7ae-25906a8b2c8e",
   "metadata": {},
   "outputs": [],
   "source": [
    "# Среднее\n",
    "begin_move_front = 80\n",
    "begin_move_rear = 90\n",
    "mean_x = np.mean([np.array(x_poses_rear[begin_move_rear:600+begin_move_rear]), np.array(x_poses_front[begin_move_front:600+begin_move_front])], axis=0)"
   ]
  },
  {
   "cell_type": "code",
   "execution_count": null,
   "id": "b2c960df-5ab1-48a5-8cae-c64d19ccef75",
   "metadata": {},
   "outputs": [],
   "source": [
    "plt.figure()\n",
    "resid = x_poses_front_gt[:600] - mean_x[:600]\n",
    "plt.plot(np.arange(0,len(resid)), resid)\n",
    "plt.grid(True)\n",
    "plt.ylim(ymin=-1, ymax=1)\n",
    "plt.show()"
   ]
  },
  {
   "cell_type": "code",
   "execution_count": null,
   "metadata": {},
   "outputs": [],
   "source": []
  },
  {
   "cell_type": "code",
   "execution_count": null,
   "metadata": {},
   "outputs": [],
   "source": []
  }
 ],
 "metadata": {
  "kernelspec": {
   "display_name": "Python 3 (ipykernel)",
   "language": "python",
   "name": "python3"
  },
  "language_info": {
   "codemirror_mode": {
    "name": "ipython",
    "version": 3
   },
   "file_extension": ".py",
   "mimetype": "text/x-python",
   "name": "python",
   "nbconvert_exporter": "python",
   "pygments_lexer": "ipython3",
   "version": "3.10.13"
  }
 },
 "nbformat": 4,
 "nbformat_minor": 5
}
